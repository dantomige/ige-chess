{
 "cells": [
  {
   "cell_type": "code",
   "execution_count": 1,
   "id": "c9c3ed96",
   "metadata": {},
   "outputs": [],
   "source": [
    "%load_ext autoreload\n",
    "%autoreload 2"
   ]
  },
  {
   "cell_type": "code",
   "execution_count": 2,
   "id": "9cd3a785",
   "metadata": {},
   "outputs": [
    {
     "name": "stdout",
     "output_type": "stream",
     "text": [
      "/Users/danige/Development/ige-chess/engine\n",
      "['lc0-v0.32.0-macos_12.6.1', '.DS_Store', 'weights', '__init__.py', 'model.py', 'model.ipynb']\n"
     ]
    }
   ],
   "source": [
    "import os\n",
    "\n",
    "cwd = os.getcwd()\n",
    "print(cwd)\n",
    "\n",
    "print(os.listdir(cwd))\n",
    "\n",
    "# os.chdir(\"/path/to/ige-chess\")\n",
    "# print(os.listdir(cwd))"
   ]
  },
  {
   "cell_type": "markdown",
   "id": "bdec555f",
   "metadata": {},
   "source": [
    "Imports"
   ]
  },
  {
   "cell_type": "code",
   "execution_count": 3,
   "id": "0135fcd0",
   "metadata": {},
   "outputs": [],
   "source": [
    "import numpy as np\n",
    "import tensorflow as tf\n",
    "import chess"
   ]
  },
  {
   "cell_type": "markdown",
   "id": "5ec554c2",
   "metadata": {},
   "source": [
    "Loading Dataset"
   ]
  },
  {
   "cell_type": "code",
   "execution_count": 5,
   "id": "1644a740",
   "metadata": {},
   "outputs": [],
   "source": [
    "import sys\n",
    "import os\n",
    "\n",
    "# Add the scripts folder to sys.path\n",
    "sys.path.append(\"/Users/danige/Development/ige-chess/scripts\")\n",
    "\n",
    "# Now import\n",
    "from fetch_chess_data import fetch_chess_data_by_user"
   ]
  },
  {
   "cell_type": "code",
   "execution_count": 6,
   "id": "045f3ac6",
   "metadata": {},
   "outputs": [
    {
     "name": "stdout",
     "output_type": "stream",
     "text": [
      "576\n",
      "[Event \"Live Chess\"]\n",
      "[Site \"Chess.com\"]\n",
      "[Date \"2025.09.24\"]\n",
      "[Round \"-\"]\n",
      "[White \"hasenAkil\"]\n",
      "[Black \"IgeChess\"]\n",
      "[Result \"0-1\"]\n",
      "[CurrentPosition \"3R1bk1/B4p1p/6p1/1Np1Pp2/2P2P2/8/PP4PP/4q1K1 w - - 1 24\"]\n",
      "[Timezone \"UTC\"]\n",
      "[ECO \"B21\"]\n",
      "[ECOUrl \"https://www.chess.com/openings/Sicilian-Defense-McDonnell-Attack-2...Nc6\"]\n",
      "[UTCDate \"2025.09.24\"]\n",
      "[UTCTime \"18:29:37\"]\n",
      "[WhiteElo \"1282\"]\n",
      "[BlackElo \"1296\"]\n",
      "[TimeControl \"180\"]\n",
      "[Termination \"IgeChess won by checkmate\"]\n",
      "[StartTime \"18:29:37\"]\n",
      "[EndDate \"2025.09.24\"]\n",
      "[EndTime \"18:33:48\"]\n",
      "[Link \"https://www.chess.com/game/live/143515476904\"]\n",
      "\n",
      "1. e4 {[%clk 0:02:49]} 1... c5 {[%clk 0:02:58.7]} 2. f4 {[%clk 0:02:47.3]} 2... Nc6 {[%clk 0:02:58.6]} 3. d4 {[%clk 0:02:45.9]} 3... cxd4 {[%clk 0:02:58.5]} 4. Nf3 {[%clk 0:02:44.2]} 4... g6 {[%clk 0:02:44.6]} 5. Nxd4 {[%clk 0:02:42.8]} 5... Bg7 {[%clk 0:02:43.7]} 6. Nxc6 {[%clk 0:02:41.6]} 6... bxc6 {[%clk 0:02:43.6]} 7. Nc3 {[%clk 0:02:40.2]} 7... e6 {[%clk 0:02:41.5]} 8. Be3 {[%clk 0:02:38.8]} 8... Ne7 {[%clk 0:02:40.7]} 9. Bd3 {[%clk 0:02:37.7]} 9... Bb7 {[%clk 0:02:39.8]} 10. Qd2 {[%clk 0:02:35.2]} 10... O-O {[%clk 0:02:38.5]} 11. O-O {[%clk 0:02:33.4]} 11... d5 {[%clk 0:02:38.1]} 12. e5 {[%clk 0:02:31.7]} 12... Nf5 {[%clk 0:02:34]} 13. Bxf5 {[%clk 0:02:29.2]} 13... exf5 {[%clk 0:02:32.3]} 14. Rad1 {[%clk 0:02:21.6]} 14... Rc8 {[%clk 0:02:26]} 15. Bc5 {[%clk 0:02:20]} 15... Re8 {[%clk 0:02:21.4]} 16. Bxa7 {[%clk 0:02:18.3]} 16... c5 {[%clk 0:02:12]} 17. Nb5 {[%clk 0:02:05]} 17... Bf8 {[%clk 0:02:01.7]} 18. Qxd5 {[%clk 0:02:00.4]} 18... Bxd5 {[%clk 0:01:59.4]} 19. c4 {[%clk 0:01:57.3]} 19... Qa5 {[%clk 0:01:33.2]} 20. Rxd5 {[%clk 0:01:54.6]} 20... Red8 {[%clk 0:01:27.1]} 21. Rfd1 {[%clk 0:01:39.3]} 21... Rxd5 {[%clk 0:00:53.3]} 22. Rxd5 {[%clk 0:01:35.3]} 22... Rd8 {[%clk 0:00:49.1]} 23. Rxd8 {[%clk 0:01:14]} 23... Qe1# {[%clk 0:00:48]} 0-1\n",
      "\n"
     ]
    }
   ],
   "source": [
    "data = fetch_chess_data_by_user(\"IgeChess\")\n",
    "print(len(data))\n",
    "\n",
    "print(data[-1][\"pgn\"])"
   ]
  },
  {
   "cell_type": "markdown",
   "id": "67e622b1",
   "metadata": {},
   "source": [
    "Data Exploration"
   ]
  },
  {
   "cell_type": "code",
   "execution_count": null,
   "id": "553c292f",
   "metadata": {},
   "outputs": [],
   "source": []
  },
  {
   "cell_type": "markdown",
   "id": "c5ed402a",
   "metadata": {},
   "source": [
    "Data Split"
   ]
  },
  {
   "cell_type": "markdown",
   "id": "64564abe",
   "metadata": {},
   "source": [
    "Model Selection"
   ]
  },
  {
   "cell_type": "code",
   "execution_count": null,
   "id": "820a35b0",
   "metadata": {},
   "outputs": [],
   "source": [
    "import os\n",
    "\n",
    "# # List everything in the current directory\n",
    "# print(os.listdir(\".\"))\n",
    "\n",
    "# # List everything in a subdirectory\n",
    "# print(os.listdir(\"engine\"))\n",
    "\n",
    "# print(os.path.exists(\"engine/lc0-v0.32.0-macos_12.6.1\"))  # Should print True\n",
    "# print(os.path.exists(\"engine/weights/t1-256x10-distilled-swa-2432500.pb.gz\"))  # Should print True\n",
    "\n",
    "# Paths to your engine and neural network\n",
    "engine_path = \"/Users/danige/Development/ige-chess/engine/lc0-v0.32.0-macos_12.6.1\" \n",
    "# engine_path = \"lc0-v0.32.0-macos_12.6.1\" \n",
    "network_path = \"weights/t1-256x10-distilled-swa-2432500.pb.gz\"\n",
    "\n",
    "print(os.path.exists(engine_path))   # Should print True\n",
    "print(os.path.exists(network_path))  # Should print True\n",
    "\n",
    "# Initialize engine with network\n",
    "engine = chess.engine.SimpleEngine.popen_uci(engine_path)\n",
    "\n",
    "# Load custom neural network\n",
    "engine.configure({\"WeightsFile\": network_path})\n",
    "\n",
    "# Example board\n",
    "board = chess.Board()  # Start position\n",
    "\n",
    "# Play a move programmatically\n",
    "result = engine.play(board, chess.engine.Limit(time=0.1))  # 0.1s thinking\n",
    "print(\"Engine move:\", result.move)\n",
    "\n",
    "# Apply move to board\n",
    "board.push(result.move)\n",
    "print(board)\n",
    "\n",
    "# Loop for a full game (optional)\n",
    "while not board.is_game_over():\n",
    "    result = engine.play(board, chess.engine.Limit(time=0.1))\n",
    "    board.push(result.move)\n",
    "    print(board, \"\\n\")\n",
    "\n",
    "# Close engine\n",
    "engine.quit()"
   ]
  },
  {
   "cell_type": "code",
   "execution_count": null,
   "id": "0333ccac",
   "metadata": {},
   "outputs": [],
   "source": [
    "for layer in model.layers[:-3]:  # Freeze early layers\n",
    "    layer.trainable = False"
   ]
  },
  {
   "cell_type": "markdown",
   "id": "d223c5b6",
   "metadata": {},
   "source": [
    "Training"
   ]
  },
  {
   "cell_type": "markdown",
   "id": "68677ead",
   "metadata": {},
   "source": [
    "Evaluation (Train on my games and find its rating.)"
   ]
  }
 ],
 "metadata": {
  "kernelspec": {
   "display_name": "ige-chess",
   "language": "python",
   "name": "python3"
  },
  "language_info": {
   "codemirror_mode": {
    "name": "ipython",
    "version": 3
   },
   "file_extension": ".py",
   "mimetype": "text/x-python",
   "name": "python",
   "nbconvert_exporter": "python",
   "pygments_lexer": "ipython3",
   "version": "3.13.5"
  }
 },
 "nbformat": 4,
 "nbformat_minor": 5
}
